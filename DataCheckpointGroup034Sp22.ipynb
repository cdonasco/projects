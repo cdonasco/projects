{
 "cells": [
  {
   "cell_type": "markdown",
   "metadata": {},
   "source": [
    "# COGS 108 - Data Checkpoint"
   ]
  },
  {
   "cell_type": "markdown",
   "metadata": {},
   "source": [
    "# Names\n",
    "\n",
    "- Cairo Simpson\n",
    "- Michelle Liu\n",
    "- Michael Donaldson\n",
    "- Matthew Leffler\n",
    "- Charmie Donasco"
   ]
  },
  {
   "cell_type": "markdown",
   "metadata": {},
   "source": [
    "<a id='research_question'></a>\n",
    "# Research Question"
   ]
  },
  {
   "cell_type": "markdown",
   "metadata": {},
   "source": [
    "How have the musical characteristics (e.g. danceability, tempo, key, chord progression, instrumentation, etc) of Kanye West changed/evolved from their first solo album, the College Dropout, to their latest solo, Donda (Deluxe)?"
   ]
  },
  {
   "cell_type": "markdown",
   "metadata": {},
   "source": [
    "# Dataset(s)"
   ]
  },
  {
   "cell_type": "markdown",
   "metadata": {},
   "source": [
    "- Dataset Name: spotify_features.csv\n",
    "- Link to the dataset: https://github.com/COGS108/Group034Sp22/blob/master/Kanye_Audio_Features\n",
    "- Number of observations: 199\n",
    "\n",
    "Contains the audio features (valence, tempo, instrumentalness) and year/album for every song contained in Kanye's solo studio albums, pulled from Spotify.\n",
    "\n",
    "Below is the code used to create the dataset using Spotify API"
   ]
  },
  {
   "cell_type": "code",
   "execution_count": null,
   "metadata": {},
   "outputs": [],
   "source": [
    "import spotipy\n",
    "from spotipy.oauth2 import SpotifyClientCredentials\n",
    "import pandas as pd"
   ]
  },
  {
   "cell_type": "code",
   "execution_count": null,
   "metadata": {},
   "outputs": [],
   "source": [
    "# Setting up dataframe\n",
    "column_names = [\"Track Name\", \"Album\", \"Release Date\", \"Danceability\", \"Energy\", \"Key\", \"Loudness\", \"Mode\", \"Speechiness\", \"Acousticness\", \"Instrumentalness\", \"Liveness\", \"Valence\", \"Tempo\"]\n",
    "df = pd.DataFrame(columns = column_names)\n",
    "\n",
    "#Token Authorization\n",
    "cid = \"a0624b5f89ae43e081ff403d7d748fee\"\n",
    "secret = \"74c99f42760345109f30cacae8334ad7\"\n",
    "client_credentials_manager = SpotifyClientCredentials(client_id=cid, client_secret=secret)\n",
    "sp = spotipy.Spotify(client_credentials_manager = client_credentials_manager)\n",
    "\n",
    "######### Discography Part 1 ############\n",
    "\n",
    "playlist_link = \"https://open.spotify.com/playlist/1dztCX69ug6G4o9jK2zJ2S?si=xLf4TI-MQAyMvWDX2zI9Nw\"\n",
    "playlist_URI = playlist_link.split(\"/\")[-1].split(\"?\")[0]\n",
    "\n",
    "for track in sp.playlist_tracks(playlist_URI)[\"items\"]:\n",
    "    track_info = {}\n",
    "    features = sp.audio_features(track[\"track\"][\"uri\"])\n",
    "    track_info[\"Track Name\"] = track[\"track\"][\"name\"]\n",
    "    track_info[\"Album\"] = track[\"track\"][\"album\"][\"name\"]\n",
    "    track_info[\"Release Date\"] = track[\"track\"][\"album\"][\"release_date\"]\n",
    "    track_info[\"Danceability\"] = features[0][\"danceability\"]\n",
    "    track_info[\"Energy\"] = features[0][\"energy\"]\n",
    "    track_info[\"Key\"] = features[0][\"key\"]\n",
    "    track_info[\"Loudness\"] = features[0][\"loudness\"]\n",
    "    track_info[\"Mode\"] = features[0][\"mode\"]\n",
    "    track_info[\"Speechiness\"] = features[0][\"speechiness\"]\n",
    "    track_info[\"Acousticness\"] = features[0][\"acousticness\"]\n",
    "    track_info[\"Instrumentalness\"] = features[0][\"instrumentalness\"]\n",
    "    track_info[\"Liveness\"] = features[0][\"liveness\"]\n",
    "    track_info[\"Valence\"] = features[0][\"valence\"]\n",
    "    track_info[\"Tempo\"] = features[0][\"tempo\"]\n",
    "    df.loc[df.shape[0]] = track_info\n",
    "\n",
    "######### Discography Part 2 ###########\n",
    "\n",
    "playlist_link = \"https://open.spotify.com/playlist/4YadIK03lniReeC1m5aFcg?si=9UqvaaA8R6qk9T5a1GZEfg\"\n",
    "playlist_URI = playlist_link.split(\"/\")[-1].split(\"?\")[0]\n",
    "\n",
    "\n",
    "for track in sp.playlist_tracks(playlist_URI)[\"items\"]:\n",
    "    track_info = {}\n",
    "    features = sp.audio_features(track[\"track\"][\"uri\"])\n",
    "    track_info[\"Track Name\"] = track[\"track\"][\"name\"]\n",
    "    track_info[\"Album\"] = track[\"track\"][\"album\"][\"name\"]\n",
    "    track_info[\"Release Date\"] = track[\"track\"][\"album\"][\"release_date\"]\n",
    "    track_info[\"Danceability\"] = features[0][\"danceability\"]\n",
    "    track_info[\"Energy\"] = features[0][\"energy\"]\n",
    "    track_info[\"Key\"] = features[0][\"key\"]\n",
    "    track_info[\"Loudness\"] = features[0][\"loudness\"]\n",
    "    track_info[\"Mode\"] = features[0][\"mode\"]\n",
    "    track_info[\"Speechiness\"] = features[0][\"speechiness\"]\n",
    "    track_info[\"Acousticness\"] = features[0][\"acousticness\"]\n",
    "    track_info[\"Instrumentalness\"] = features[0][\"instrumentalness\"]\n",
    "    track_info[\"Liveness\"] = features[0][\"liveness\"]\n",
    "    track_info[\"Valence\"] = features[0][\"valence\"]\n",
    "    track_info[\"Tempo\"] = features[0][\"tempo\"]\n",
    "    df.loc[df.shape[0]] = track_info\n",
    "\n",
    "df.to_csv(\"spotify_features\", index = False)"
   ]
  },
  {
   "cell_type": "markdown",
   "metadata": {},
   "source": [
    "- Dataset Name: lyrics.csv\n",
    "- Link to the dataset: https://github.com/COGS108/Group034Sp22/blob/master/lyrics.csv\n",
    "- Number of observations: 205\n",
    "\n",
    "Below is the code used to create the dataset using Genius API."
   ]
  },
  {
   "cell_type": "code",
   "execution_count": null,
   "metadata": {},
   "outputs": [],
   "source": [
    "import pandas as pd\n",
    "import api_key\n",
    "import lyricsgenius\n",
    "import json"
   ]
  },
  {
   "cell_type": "markdown",
   "metadata": {},
   "source": [
    "Here, we create a list of all albums that are of interest and query for JSON files by album for each of them."
   ]
  },
  {
   "cell_type": "code",
   "execution_count": null,
   "metadata": {},
   "outputs": [],
   "source": [
    "genius = lyricsgenius.Genius(api_key.GENIUS_CLIENT_TOKEN)\n",
    "genius.verbose = False\n",
    "genius.remove_section_headers = True\n",
    "albums = [\"The College Dropout\", \"Late Registration\", \"Graduation\", \"808s & Heartbreak\", \n",
    "          \"My Beautiful Dark Twisted Fantasy\", \"Watch the Throne\", \n",
    "          \"Kanye West Presents: Good Music - Cruel Summer G.O.O.D. Music\", \"Yeezus\", \n",
    "          \"The Life of Pablo\", \"ye\", \"KIDS SEE GHOSTS\", \"JESUS IS KING\", \"Donda (Deluxe)\"]\n",
    "names = [\"college_dropout\", \"late_registration\", \"graduation\", \"808s_and_heartbreak\",\n",
    "        \"dark_fantasy\", \"watch_the_throne\", \"good_music\", \"yeezus\", \"life_of_pablo\", \n",
    "        \"ye\", \"kids_see_ghosts\", \"jesus_is_king\", \"donda\"]\n",
    "artists = [\"Kanye West\", \"G.O.O.D Music\", \"KIDS SEE GHOSTS\"]\n",
    "\n",
    "for i, album in enumerate(albums):\n",
    "    while True: # while loop because library often times out\n",
    "        try:\n",
    "            if album == \"Kanye West Presents: Good Music - Cruel Summer G.O.O.D. Music\":\n",
    "                search = genius.search_album(album, \"G.O.O.D Music\")\n",
    "            elif album == \"KIDS SEE GHOSTS\":\n",
    "                search = genius.search_album(album, \"KIDS SEE GHOSTS\")\n",
    "            else:\n",
    "                search = genius.search_album(album, \"Kanye West\")\n",
    "            search.save_lyrics(f'{names[i]}.json')\n",
    "            break\n",
    "        except:\n",
    "            pass"
   ]
  },
  {
   "cell_type": "markdown",
   "metadata": {},
   "source": [
    "For each JSON file, we write the data fields of interest to a CSV file, which are the lyrics."
   ]
  },
  {
   "cell_type": "code",
   "execution_count": null,
   "metadata": {},
   "outputs": [],
   "source": [
    "df = pd.DataFrame(columns = ['Track Name', 'Album', 'Lyrics'])\n",
    "\n",
    "for name in names:\n",
    "    json_file = open(f'json/{name}.json')\n",
    "    data = json.load(json_file)\n",
    "    for track in data['tracks']:\n",
    "        df = df.append({'Track Name': track['song']['full_title'], 'Album': data['name'], 'Lyrics': track['song']['lyrics']}, ignore_index=True)\n",
    "\n",
    "df.to_csv('lyrics.csv', index=False)"
   ]
  },
  {
   "cell_type": "markdown",
   "metadata": {},
   "source": [
    "# Setup"
   ]
  },
  {
   "cell_type": "code",
   "execution_count": null,
   "metadata": {},
   "outputs": [],
   "source": [
    "import pandas as pd\n",
    "import nltk\n",
    "\n",
    "nltk.download('stopwords')\n",
    "nltk.download('punkt')"
   ]
  },
  {
   "cell_type": "markdown",
   "metadata": {},
   "source": [
    "# Data Cleaning"
   ]
  },
  {
   "cell_type": "markdown",
   "metadata": {},
   "source": [
    "Here, we can take a glimpse at the two datasets that we are working with."
   ]
  },
  {
   "cell_type": "code",
   "execution_count": null,
   "metadata": {},
   "outputs": [],
   "source": [
    "df_spotify = pd.read_csv('spotify_features.csv')\n",
    "df_spotify.head()"
   ]
  },
  {
   "cell_type": "code",
   "execution_count": null,
   "metadata": {},
   "outputs": [],
   "source": [
    "df_lyrics = pd.read_csv('lyrics.csv')\n",
    "df_lyrics.head(204)"
   ]
  },
  {
   "cell_type": "markdown",
   "metadata": {},
   "source": [
    "While the Spotify features dataset was pulled in a pretty clean manner that does not require much changes, there are definitely a few issues in the lyrics dataset. Namely, the track names aren't coherent with the Spotify dataset, and the lyrics are initialized with their respective song names."
   ]
  },
  {
   "cell_type": "markdown",
   "metadata": {},
   "source": [
    "Regarding the former, we can make a relatively simply fix by removing everything after the word 'by', since none of his actual songs seem to have the actual word. The latter could be fixed pretty easily as well by looking at everything after the first line break, which is denoted by a 'Lyrics\\n'."
   ]
  },
  {
   "cell_type": "code",
   "execution_count": null,
   "metadata": {},
   "outputs": [],
   "source": [
    "def fix_song_name(song_name):\n",
    "    song_name = str(song_name)\n",
    "    return song_name.split(' by')[0]\n",
    "\n",
    "def fix_lyrics(lyrics):\n",
    "    lyrics = str(lyrics)\n",
    "    split = lyrics.split('Lyrics\\n', 1)\n",
    "    if len(split) > 1:\n",
    "        return split[1]\n",
    "    else:\n",
    "        return lyrics\n",
    "\n",
    "df_lyrics['Track Name'] = df_lyrics['Track Name'].map(fix_song_name)\n",
    "df_lyrics['Lyrics'] = df_lyrics['Lyrics'].map(fix_lyrics)"
   ]
  }
 ],
 "metadata": {
  "kernelspec": {
   "display_name": "Python 3 (ipykernel)",
   "language": "python",
   "name": "python3"
  },
  "language_info": {
   "codemirror_mode": {
    "name": "ipython",
    "version": 3
   },
   "file_extension": ".py",
   "mimetype": "text/x-python",
   "name": "python",
   "nbconvert_exporter": "python",
   "pygments_lexer": "ipython3",
   "version": "3.9.5"
  }
 },
 "nbformat": 4,
 "nbformat_minor": 2
}
