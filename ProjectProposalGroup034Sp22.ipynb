{
 "cells": [
  {
   "cell_type": "markdown",
   "metadata": {},
   "source": [
    "# COGS 108 - Final Project Proposal"
   ]
  },
  {
   "cell_type": "markdown",
   "metadata": {},
   "source": [
    "# Names\n",
    "\n",
    " - Michelle Liu \n",
    " - Cairo Simpson\n",
    " - Michael Donaldson\n",
    " - Matthew Leffler\n",
    " - Charmie Donasco"
   ]
  },
  {
   "cell_type": "markdown",
   "metadata": {},
   "source": [
    "# Research Question"
   ]
  },
  {
   "cell_type": "markdown",
   "metadata": {},
   "source": [
    "How have the musical characteristics (e.g. danceability, tempo, key, chord progression, instrumentation, etc) of Kanye West changed/evolved from their first solo album, the College Dropout, to their latest solo, Donda (Deluxe)?"
   ]
  },
  {
   "cell_type": "markdown",
   "metadata": {},
   "source": [
    "## Background and Prior Work"
   ]
  },
  {
   "cell_type": "markdown",
   "metadata": {},
   "source": [
    "Ye, or more commonly known as Kanye West, is an American artist well known for his musical career and impact on the rap genre as a whole. From his first recorded album named The College Dropout released in 2004 to one of his latest release Donda (2021), Kanye West is an artist that constantly challenges himself to change the sonic landscape of his music. His discography falls under the umbrella of hip-hop and rap but each album is unique and has it’s own added style- soul, pop, gospel. \n",
    "\n",
    "Previous analysis such as The Data Science of Kanye[^duran], have done similar research in their endeavor of creating a prediction generator that predicts whether a song would be considered ‘Old Kanye’ and ‘New Kanye’. Their work analyzes each solo album based on certain features provided by the Spotify API and a sentiment analysis using the Genius API to predict their outcomes. Their data analysis tested a 60% accuracy and 50% precision score, meaning that their prediction model was not able to make reliable distinctions. Another work[^sentiment] analyzed Ye’s album by running a sentiment analysis of his whole discography up to The Life of Pablo (2016), analyzing which solo album is considered ‘happy’ and which is ‘sad’. We learn that there was a significant drop in happiness in the album 808s & Heartbreak (2008) and also after My Beautiful Dark Twisted Fantasy (2010) and onwards. \n",
    "\n",
    "[^duran]: Duran, Charlotte. “The Data Science of Kanye. By Nate Shirley, Claire Martin, &… | by Charlotte Duran.” Medium, 1 May 2019, https://medium.com/@charlotteduran8/the-data-science-of-kanye-ebdf545b52f4. Accessed 20 April 2022.\n",
    "[^sentiment]: “Sentiment Analysis of Kanye West's Discography — Mark H. White II, PhD.” Mark H. White II, PhD, 20 May 2017, https://www.markhw.com/blog/kanye-sentiment. Accessed 20 April 2022."
   ]
  },
  {
   "cell_type": "markdown",
   "metadata": {},
   "source": [
    "# Hypothesis\n"
   ]
  },
  {
   "cell_type": "markdown",
   "metadata": {},
   "source": [
    "Using Spotify’s API, we will explore danceability, acousticness, instrumentalness, liveness, loudness, speechiness, tempo, and valence. Based on the group’s listening experience with Kanye West’s music, we believe that danceability and loudness will increase and then decrease, valence will increase, acousticness, instrumentalness, and speechiness will decrease, and liveness and tempo will experience no change, as his discography shifted from soul to pop to gospel."
   ]
  },
  {
   "cell_type": "markdown",
   "metadata": {},
   "source": [
    "# Data"
   ]
  },
  {
   "cell_type": "markdown",
   "metadata": {},
   "source": [
    "The ideal dataset will likely be the Spotify-created audio features for each of Kanye’s tracks, grouped by album. This dataset will have around 400-500 observations, since that is the number of songs that he has created. Hopefully we will have a table with the following columns: song Name, album, danceability, acousticness, instrumentalness, liveness, loudness, speechiness, tempo, and valence. We will pull it using the Spotify API."
   ]
  },
  {
   "cell_type": "markdown",
   "metadata": {},
   "source": [
    "# Ethics & Privacy"
   ]
  },
  {
   "cell_type": "markdown",
   "metadata": {},
   "source": [
    "There are most likely no biases within the dataset, as Spotify’s process for determining the characteristics of a song are objective and through an algorithm. The information is publicly available, so we will not run into any privacy issues. Additionally, we will not be commenting on the quality of Kanye’s music/personal life, so we should not run into any ethical issues."
   ]
  },
  {
   "cell_type": "markdown",
   "metadata": {},
   "source": [
    "# Team Expectations "
   ]
  },
  {
   "cell_type": "markdown",
   "metadata": {},
   "source": [
    " - We will meet every week on Sundays around 12pm to discuss and work on the project and we expect everyone to be present unless otherwise communicated. \n",
    " - We will communicate via our Discord Server or phone numbers.\n",
    " - We will be responsive regarding any messages sent to us within a period of 24-48 hours.\n",
    " - We will be communicative of any issues and obstacles that we are facing with respect to the project.\n",
    " - We will assign sections of the project for each person to complete and expect each person to complete their sections accordingly unless otherwise communicated.\n"
   ]
  },
  {
   "cell_type": "markdown",
   "metadata": {},
   "source": [
    "# Project Timeline Proposal"
   ]
  },
  {
   "cell_type": "markdown",
   "metadata": {},
   "source": [
    "| Meeting Date  | Meeting Time| Completed Before Meeting  | Discuss at Meeting |\n",
    "|---|---|---|---|\n",
    "| 4/24  |  12 PM | | Discuss each person’s strengths, divide responsibilities |\n",
    "| 5/1  |  12 PM |  Scan through Spotify API/Seaborn on what data is available and how to use available functions.  | Discuss data wrangling/potential graphics desired to be added | \n",
    "| 5/8  | 10 PM  | Import & Wrangle Data; EDA  | Review/Edit wrangling/EDA; Discuss Analysis Plan |\n",
    "| 5/15  | 12 PM  | Finalize wrangling/EDA; Begin Analysis  | Discuss/edit Analysis; Complete project check-in  |\n",
    "| 5/22  | 12 PM  | Complete analysis; Draft results/conclusion/discussion | Discuss/edit full project |\n",
    "| 5/29  | 12 PM  | Prepare script for video| Review Project, Record video via zoom |\n",
    "| 6/5  | 12 PM  | Edit video | Edit video |"
   ]
  },
  {
   "cell_type": "code",
   "execution_count": null,
   "metadata": {},
   "outputs": [],
   "source": []
  }
 ],
 "metadata": {
  "kernelspec": {
   "display_name": "Python 3 (ipykernel)",
   "language": "python",
   "name": "python3"
  },
  "language_info": {
   "codemirror_mode": {
    "name": "ipython",
    "version": 3
   },
   "file_extension": ".py",
   "mimetype": "text/x-python",
   "name": "python",
   "nbconvert_exporter": "python",
   "pygments_lexer": "ipython3",
   "version": "3.9.5"
  }
 },
 "nbformat": 4,
 "nbformat_minor": 2
}
