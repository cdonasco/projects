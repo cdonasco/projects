{
 "cells": [
  {
   "cell_type": "markdown",
   "metadata": {},
   "source": [
    "# Project Description"
   ]
  },
  {
   "cell_type": "markdown",
   "metadata": {},
   "source": [
    "Mastermind or Master Mind is a code-breaking game played with two players. Based on an older game called Bulls and Cows, Mastermind puts an emphasis on strategy and logical thinking.\n",
    "\n",
    "Digital Mastermind is a simplified variation of the highly complex game where the code is made using colors and numbers. In this version, a code will be randomly generated with a length that varies from 1 to 10 digits long with he colors being replaced with 0-9 non-repeating numbers. After each guess made, the correct number of guesses in the correct position will be revealed. Hints are available if requested, where the generated digit is disclosed according to the desired location.\n",
    "\n",
    "For instance, if the player wishes for a 4- digit code to be generated, the computer could spit out the number 6790. the player then has to guess the correct numbers and their correct positions to the best of their abilities. If a hint is requested then the player must input the numerical value of the placement of the digit they want revealed. Asking for the first position of the secret code would need an input of the value one (1) where then the computer will return the value six (6). There are an infinite amount of tries and hints made available to the player.\n",
    "\n",
    "Good luck and have fun playing Digital Mastermind!"
   ]
  },
  {
   "cell_type": "markdown",
   "metadata": {},
   "source": [
    "tl;dr Instructions:\n",
    "\n",
    "1. Enter an integer from 1 to 10 that will decide the length of secret code. \n",
    "\n",
    "2. Guess the number!\n",
    "\n",
    "3. Ask for hints. Enter the position number of the secret digit that you want (1 being the left most digit).\n",
    "\n",
    "4. Keep guessing until you get it right!\n"
   ]
  },
  {
   "cell_type": "markdown",
   "metadata": {},
   "source": [
    "## Project Code\n",
    "\n",
    "If it makes sense for your project, you can have code and outputs here in the notebook as well."
   ]
  },
  {
   "cell_type": "code",
   "execution_count": 3,
   "metadata": {},
   "outputs": [],
   "source": [
    "from my_module.functions import *\n",
    "from my_module.test_functions import *"
   ]
  },
  {
   "cell_type": "code",
   "execution_count": null,
   "metadata": {},
   "outputs": [],
   "source": [
    "# Uncomment line below to start game.\n",
    "\n",
    "# start()"
   ]
  },
  {
   "cell_type": "markdown",
   "metadata": {},
   "source": [
    "#### Extra Credit (*optional*)\n",
    "\n",
    "Replace all of this text with a brief explanation (~3 sentences) of: \n",
    "1. Your Python Background\n",
    "\n",
    "I have no Python knowledge before COGS 18. However, many of the syntax and logic was familiar to me as I have a basic knowledge of java.\n",
    "\n",
    "2. How your project went above and beyond the requirements of the project and/or how you challenged yourself to learn something new with the final project\n",
    "\n",
    "My project really challenged me to think more creatively and forced me to thoroughly plan my thoughts out better. Code documentation (docstrings and comments) helped me catch minor issues with the code and understand my own thought process better. Where before it would be a mad scramble of \"What was I doing?? What went wrong??\", the documentation process ironed out the kinks in my code. "
   ]
  },
  {
   "cell_type": "code",
   "execution_count": null,
   "metadata": {},
   "outputs": [],
   "source": []
  }
 ],
 "metadata": {
  "kernelspec": {
   "display_name": "Python 3",
   "language": "python",
   "name": "python3"
  },
  "language_info": {
   "codemirror_mode": {
    "name": "ipython",
    "version": 3
   },
   "file_extension": ".py",
   "mimetype": "text/x-python",
   "name": "python",
   "nbconvert_exporter": "python",
   "pygments_lexer": "ipython3",
   "version": "3.8.6"
  }
 },
 "nbformat": 4,
 "nbformat_minor": 2
}
